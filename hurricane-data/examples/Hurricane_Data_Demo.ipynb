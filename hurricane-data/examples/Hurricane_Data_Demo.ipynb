{
  "nbformat": 4,
  "nbformat_minor": 0,
  "metadata": {
    "colab": {
      "provenance": []
    },
    "kernelspec": {
      "name": "python3",
      "display_name": "Python 3"
    },
    "language_info": {
      "name": "python"
    }
  },
  "cells": [
    {
      "cell_type": "code",
      "execution_count": null,
      "metadata": {
        "collapsed": true,
        "id": "25oJx0HM9YiT"
      },
      "outputs": [],
      "source": [
        "!pip install tropycal\n",
        "!pip install cartopy"
      ]
    },
    {
      "cell_type": "code",
      "source": [
        "import tropycal.tracks as tracks\n",
        "import datetime as dt\n",
        "import cartopy.crs as ccrs"
      ],
      "metadata": {
        "id": "pMTtXu2Z9cy8"
      },
      "execution_count": null,
      "outputs": []
    },
    {
      "cell_type": "markdown",
      "source": [
        "# Hurricane Data Demo\n",
        "\n",
        "This is a little walk-through of the \"tropycal\" python package. [Here is the documentation and details for tropycal](https://tropycal.github.io/tropycal/index.html)."
      ],
      "metadata": {
        "id": "SKahNKlZA1RU"
      }
    },
    {
      "cell_type": "markdown",
      "source": [
        "## Storm Tracks"
      ],
      "metadata": {
        "id": "dkNyz78x-77X"
      }
    },
    {
      "cell_type": "markdown",
      "source": [
        "From the [documentation](https://tropycal.github.io/tropycal/samples/tracks.storm.html): \"HURDAT data is not available for the most recent hurricane seasons. To include the latest data up through today, the “include_btk” flag would need to be set to True, which reads in preliminary best track data from the NHC website.\""
      ],
      "metadata": {
        "id": "2HKnh4Wa95lD"
      }
    },
    {
      "cell_type": "code",
      "source": [
        "hurdat_atl = tracks.TrackDataset(basin='north_atlantic',source='hurdat',include_btk=True)"
      ],
      "metadata": {
        "id": "6BZPfrMP9zcG"
      },
      "execution_count": null,
      "outputs": []
    },
    {
      "cell_type": "code",
      "source": [
        "storm = hurdat_atl.get_storm(('lee',2023))"
      ],
      "metadata": {
        "id": "2E39L4sq-EVI"
      },
      "execution_count": null,
      "outputs": []
    },
    {
      "cell_type": "code",
      "source": [
        "storm.plot()"
      ],
      "metadata": {
        "id": "WgMQ7M6q-IOx"
      },
      "execution_count": null,
      "outputs": []
    },
    {
      "cell_type": "markdown",
      "source": [
        "## Model Ensembles\n",
        "\n",
        "Details on this command are available [in the documentation](https://tropycal.github.io/tropycal/api/generated/tropycal.realtime.RealtimeStorm.plot_ensembles.html)."
      ],
      "metadata": {
        "id": "vsOjEipk-3xJ"
      }
    },
    {
      "cell_type": "code",
      "source": [
        "storm.plot_ensembles(forecast=dt.datetime(2023, 9, 7, 6, 00), save_path=\"./demo_density.jpg\")"
      ],
      "metadata": {
        "id": "KurgfHYH-4s4"
      },
      "execution_count": null,
      "outputs": []
    },
    {
      "cell_type": "markdown",
      "source": [
        "Here I added a projection, based on the `ccrs` I established in the first cell. See details on projections [here](https://scitools.org.uk/cartopy/docs/v0.15/crs/projections.html)."
      ],
      "metadata": {
        "id": "49mdX4ke_obT"
      }
    },
    {
      "cell_type": "code",
      "source": [
        "storm.plot_ensembles(forecast=dt.datetime(2023, 9, 7, 6, 00),\n",
        "                     save_path=\"./demo_test.svg\",\n",
        "                     domain=\"north_atlantic\",\n",
        "                     prop_density={\"plot\":False},\n",
        "                     cartopy_proj=ccrs.Orthographic(central_longitude=-58.0, central_latitude=0.0, globe=None)\n",
        "                    )"
      ],
      "metadata": {
        "id": "CFb-tSU5_JbV"
      },
      "execution_count": null,
      "outputs": []
    },
    {
      "cell_type": "markdown",
      "source": [
        "## Individual Model Tracks & Intensity\n",
        "\n",
        "That [documentation is here](https://tropycal.github.io/tropycal/api/generated/tropycal.realtime.RealtimeStorm.plot_models.html)"
      ],
      "metadata": {
        "id": "XlTvoAYMAQKF"
      }
    },
    {
      "cell_type": "code",
      "source": [
        "storm.plot_models_wind(forecast=dt.datetime(2023, 9, 7, 6, 00))"
      ],
      "metadata": {
        "id": "SzjvOXe7APRW"
      },
      "execution_count": null,
      "outputs": []
    },
    {
      "cell_type": "markdown",
      "source": [
        "You can also turn the storm data into different data structures, including Pandas dataframes:"
      ],
      "metadata": {
        "id": "vcQNOgS-BcLo"
      }
    },
    {
      "cell_type": "code",
      "source": [
        "storm.to_dataframe()"
      ],
      "metadata": {
        "collapsed": true,
        "id": "j3kLp7gbAX4A"
      },
      "execution_count": null,
      "outputs": []
    },
    {
      "cell_type": "code",
      "source": [],
      "metadata": {
        "id": "a09Uqb-NAhCE"
      },
      "execution_count": null,
      "outputs": []
    }
  ]
}